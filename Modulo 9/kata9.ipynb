{
 "cells": [
  {
   "cell_type": "markdown",
   "metadata": {},
   "source": [
    "# Uso de funciones"
   ]
  },
  {
   "cell_type": "markdown",
   "metadata": {},
   "source": [
    "### Argumentos en funciones"
   ]
  },
  {
   "cell_type": "code",
   "execution_count": 7,
   "metadata": {},
   "outputs": [
    {
     "data": {
      "text/plain": [
       "'Tank 1: 10 l, Tank 2: 20 l, Tank 3: 6 l, on average: 12.0 l'"
      ]
     },
     "execution_count": 7,
     "metadata": {},
     "output_type": "execute_result"
    }
   ],
   "source": [
    "def average(tank1, tank2, tank3):\n",
    "    return (tank1 + tank2 + tank3) / 3\n",
    "\n",
    "def gasChecker(tank1, tank2, tank3):\n",
    "    return 'Tank 1: ' + str(tank1) + ' l, ' + 'Tank 2: ' + str(tank2) + ' l, ' + 'Tank 3: ' + str(tank3) + ' l, on average: ' + str(average(tank1, tank2, tank3)) + ' l'\n",
    "\n",
    "gasChecker(10, 20, 6)"
   ]
  }
 ],
 "metadata": {
  "interpreter": {
   "hash": "a1c2ae075018fd20052caef0df98394f2861d2520d0ec5928c8a91c3f3cbe7c1"
  },
  "kernelspec": {
   "display_name": "Python 3.10.2 ('env': venv)",
   "language": "python",
   "name": "python3"
  },
  "language_info": {
   "codemirror_mode": {
    "name": "ipython",
    "version": 3
   },
   "file_extension": ".py",
   "mimetype": "text/x-python",
   "name": "python",
   "nbconvert_exporter": "python",
   "pygments_lexer": "ipython3",
   "version": "3.10.2"
  },
  "orig_nbformat": 4
 },
 "nbformat": 4,
 "nbformat_minor": 2
}
