{
 "cells": [
  {
   "cell_type": "markdown",
   "metadata": {},
   "source": [
    "# Transformar cadenas"
   ]
  },
  {
   "cell_type": "code",
   "execution_count": 10,
   "metadata": {},
   "outputs": [],
   "source": [
    "text = \"\"\"Interesting facts about the Moon. The Moon is Earth's only satellite. There are several interesting facts about the Moon and how it affects life here on Earth. On average, the Moon moves 4cm away from the Earth every year. This yearly drift is not significant enough to cause immediate effects on Earth. The highest daylight temperature of the Moon is 127 C.\"\"\""
   ]
  },
  {
   "cell_type": "code",
   "execution_count": 11,
   "metadata": {},
   "outputs": [],
   "source": [
    "oraciones = text.split(\". \")"
   ]
  },
  {
   "cell_type": "code",
   "execution_count": 12,
   "metadata": {},
   "outputs": [
    {
     "name": "stdout",
     "output_type": "stream",
     "text": [
      "On average, the Moon moves 4cm away from the Earth every year\n",
      "The highest daylight temperature of the Moon is 127 C.\n"
     ]
    }
   ],
   "source": [
    "claves = ['average', 'temperature', 'distance']\n",
    "\n",
    "for oracion in oraciones:\n",
    "    for clave in claves:\n",
    "        if oracion.__contains__(clave):\n",
    "            print(oracion)\n",
    "            break"
   ]
  },
  {
   "cell_type": "code",
   "execution_count": 13,
   "metadata": {},
   "outputs": [
    {
     "name": "stdout",
     "output_type": "stream",
     "text": [
      "Interesting facts about the Moon\n",
      "The Moon is Earth's only satellite\n",
      "There are several interesting facts about the Moon and how it affects life here on Earth\n",
      "On average, the Moon moves 4cm away from the Earth every year\n",
      "This yearly drift is not significant enough to cause immediate effects on Earth\n",
      "The highest daylight temperature of the Moon is 127 Celsius.\n"
     ]
    }
   ],
   "source": [
    "for oracion in oraciones:\n",
    "    newOracion = oracion.replace('C.', 'Celsius.')\n",
    "    print(newOracion)"
   ]
  },
  {
   "cell_type": "markdown",
   "metadata": {},
   "source": [
    "# Formatear cadenas"
   ]
  },
  {
   "cell_type": "code",
   "execution_count": 15,
   "metadata": {},
   "outputs": [],
   "source": [
    "name = \"Moon\"\n",
    "gravity = 0.00162 # in kms\n",
    "planet = \"Earth\""
   ]
  },
  {
   "cell_type": "code",
   "execution_count": 16,
   "metadata": {},
   "outputs": [],
   "source": [
    "titulo = f\"Data of {planet}'s {name}\""
   ]
  },
  {
   "cell_type": "code",
   "execution_count": 21,
   "metadata": {},
   "outputs": [],
   "source": [
    "template = f\"\"\"{'-'*50}\n",
    "Planet Name: {planet}\n",
    "Gravity on {name}: {gravity * 1000} m/s^2\n",
    "\"\"\""
   ]
  },
  {
   "cell_type": "code",
   "execution_count": 22,
   "metadata": {},
   "outputs": [
    {
     "name": "stdout",
     "output_type": "stream",
     "text": [
      "Data of Earth's Moon\n",
      "--------------------------------------------------\n",
      "Planet Name: Earth\n",
      "Gravity on Moon: 1.6199999999999999 m/s^2\n",
      "\n",
      "\n"
     ]
    }
   ],
   "source": [
    "final = f\"\"\"{titulo}\n",
    "{template}\n",
    "\"\"\"\n",
    "print(final)"
   ]
  },
  {
   "cell_type": "code",
   "execution_count": 24,
   "metadata": {},
   "outputs": [
    {
     "name": "stdout",
     "output_type": "stream",
     "text": [
      "Data of Earth's Moon\n",
      "--------------------------------------------------\n",
      "Planet Name: Earth\n",
      "Gravity on Moon: 1.6199999999999999 m/s^2\n",
      "\n",
      "\n"
     ]
    }
   ],
   "source": [
    "planeta = 'Marte '\n",
    "gravedad  = 0.00143\n",
    "nombre = 'Ganímedes'\n",
    "print(final)"
   ]
  },
  {
   "cell_type": "code",
   "execution_count": 30,
   "metadata": {},
   "outputs": [
    {
     "name": "stdout",
     "output_type": "stream",
     "text": [
      "\n",
      "Data of Marte 's Ganímedes\n",
      "--------------------------------------------------\n",
      "Planet Name: Marte \n",
      "Gravity on Ganímedes: 1.4300000000000002 m/s^2\n",
      "\n"
     ]
    }
   ],
   "source": [
    "new_template = \"\"\"\n",
    "Data of {planet}'s {name}\n",
    "--------------------------------------------------\n",
    "Planet Name: {planet}\n",
    "Gravity on {name}: {gravity} m/s^2\n",
    "\"\"\"\n",
    "\n",
    "print(new_template.format(planet=planeta, gravity=gravedad * 1000, name=nombre))"
   ]
  }
 ],
 "metadata": {
  "interpreter": {
   "hash": "d857f5ebb301b2507a024b5b5abef6dbfc9b908055817d5971549cf357dcf99a"
  },
  "kernelspec": {
   "display_name": "Python 3.10.2 ('env': venv)",
   "language": "python",
   "name": "python3"
  },
  "language_info": {
   "codemirror_mode": {
    "name": "ipython",
    "version": 3
   },
   "file_extension": ".py",
   "mimetype": "text/x-python",
   "name": "python",
   "nbconvert_exporter": "python",
   "pygments_lexer": "ipython3",
   "version": "3.10.2"
  },
  "orig_nbformat": 4
 },
 "nbformat": 4,
 "nbformat_minor": 2
}
