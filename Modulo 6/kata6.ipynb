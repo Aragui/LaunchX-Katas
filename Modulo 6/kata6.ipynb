{
 "cells": [
  {
   "cell_type": "markdown",
   "metadata": {},
   "source": [
    "# Crear y usar listas"
   ]
  },
  {
   "cell_type": "code",
   "execution_count": 22,
   "metadata": {},
   "outputs": [
    {
     "name": "stdout",
     "output_type": "stream",
     "text": [
      "8\n"
     ]
    }
   ],
   "source": [
    "planetas = [\"Mercurio\", \"Venus\", \"Tierra\", \"Marte\", \"Jupiter\", \"Saturno\", \"Urano\", \"Neptuno\"]\n",
    "\n",
    "print(len(planetas))"
   ]
  },
  {
   "cell_type": "code",
   "execution_count": 23,
   "metadata": {},
   "outputs": [
    {
     "name": "stdout",
     "output_type": "stream",
     "text": [
      "9\n"
     ]
    }
   ],
   "source": [
    "planetas.append(\"Plutón\")\n",
    "\n",
    "print(len(planetas))"
   ]
  },
  {
   "cell_type": "code",
   "execution_count": 25,
   "metadata": {},
   "outputs": [],
   "source": [
    "planeta = input(\"Introduce el nombre de un planeta (con primer letra en mayuscula)\")\n",
    "\n",
    "planeta_indx = planetas.index(planeta)"
   ]
  },
  {
   "cell_type": "code",
   "execution_count": 26,
   "metadata": {},
   "outputs": [
    {
     "name": "stdout",
     "output_type": "stream",
     "text": [
      "Mercurio, Venus, Tierra son los planetas mas cercanos desde Marte\n",
      "Jupiter, Saturno, Urano, Neptuno, Plutón son los planetas mas lejanos desde Marte\n"
     ]
    }
   ],
   "source": [
    "planetas_cercanos = planetas[:planeta_indx]\n",
    "planetas_lejanos = planetas[planeta_indx + 1:]\n",
    "\n",
    "print(f\"{', '.join(planetas_cercanos)} son los planetas mas cercanos desde {planeta}\")\n",
    "print(f\"{', '.join(planetas_lejanos)} son los planetas mas lejanos desde {planeta}\")"
   ]
  }
 ],
 "metadata": {
  "interpreter": {
   "hash": "d857f5ebb301b2507a024b5b5abef6dbfc9b908055817d5971549cf357dcf99a"
  },
  "kernelspec": {
   "display_name": "Python 3.10.2 ('env': venv)",
   "language": "python",
   "name": "python3"
  },
  "language_info": {
   "codemirror_mode": {
    "name": "ipython",
    "version": 3
   },
   "file_extension": ".py",
   "mimetype": "text/x-python",
   "name": "python",
   "nbconvert_exporter": "python",
   "pygments_lexer": "ipython3",
   "version": "3.10.2"
  },
  "orig_nbformat": 4
 },
 "nbformat": 4,
 "nbformat_minor": 2
}
