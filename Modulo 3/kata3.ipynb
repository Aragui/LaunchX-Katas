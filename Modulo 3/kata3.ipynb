{
 "cells": [
  {
   "cell_type": "markdown",
   "metadata": {},
   "source": [
    "# Meteoritos"
   ]
  },
  {
   "cell_type": "code",
   "execution_count": 1,
   "metadata": {},
   "outputs": [
    {
     "name": "stdout",
     "output_type": "stream",
     "text": [
      "Correeeee D:\n"
     ]
    }
   ],
   "source": [
    "asteroide = 26\n",
    "\n",
    "if asteroide < 25:\n",
    "    print(\"Es inofensivo\")\n",
    "else:\n",
    "    print(\"Correeeee D:\")"
   ]
  },
  {
   "cell_type": "code",
   "execution_count": 12,
   "metadata": {},
   "outputs": [
    {
     "name": "stdout",
     "output_type": "stream",
     "text": [
      "No pasa nada\n"
     ]
    }
   ],
   "source": [
    "velocidad = 21 # Km/s\n",
    "\n",
    "if velocidad > 25:\n",
    "    print(\"Hay un asteroide potencialmente peligroso\")\n",
    "else:\n",
    "    print(\"No pasa nada\")"
   ]
  },
  {
   "cell_type": "code",
   "execution_count": 15,
   "metadata": {},
   "outputs": [
    {
     "name": "stdout",
     "output_type": "stream",
     "text": [
      "Mira la luz del cielo :D\n"
     ]
    }
   ],
   "source": [
    "if velocidad < 20:\n",
    "    print(\"No se ve nada\")\n",
    "elif velocidad == 20:\n",
    "    print(\"Mira la luz del cielo :D\")\n",
    "else:\n",
    "    print(\"Mira la luz del cielo :D\")"
   ]
  }
 ],
 "metadata": {
  "interpreter": {
   "hash": "d857f5ebb301b2507a024b5b5abef6dbfc9b908055817d5971549cf357dcf99a"
  },
  "kernelspec": {
   "display_name": "Python 3.10.2 ('env': venv)",
   "language": "python",
   "name": "python3"
  },
  "language_info": {
   "codemirror_mode": {
    "name": "ipython",
    "version": 3
   },
   "file_extension": ".py",
   "mimetype": "text/x-python",
   "name": "python",
   "nbconvert_exporter": "python",
   "pygments_lexer": "ipython3",
   "version": "3.10.2"
  },
  "orig_nbformat": 4
 },
 "nbformat": 4,
 "nbformat_minor": 2
}
